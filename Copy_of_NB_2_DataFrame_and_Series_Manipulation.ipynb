{
  "nbformat": 4,
  "nbformat_minor": 0,
  "metadata": {
    "colab": {
      "provenance": [],
      "private_outputs": true,
      "include_colab_link": true
    },
    "kernelspec": {
      "name": "python3",
      "display_name": "Python 3"
    },
    "language_info": {
      "name": "python"
    },
    "gpuClass": "standard"
  },
  "cells": [
    {
      "cell_type": "markdown",
      "metadata": {
        "id": "view-in-github",
        "colab_type": "text"
      },
      "source": [
        "<a href=\"https://colab.research.google.com/github/david7franco/david7franco/blob/main/Copy_of_NB_2_DataFrame_and_Series_Manipulation.ipynb\" target=\"_parent\"><img src=\"https://colab.research.google.com/assets/colab-badge.svg\" alt=\"Open In Colab\"/></a>"
      ]
    },
    {
      "cell_type": "markdown",
      "source": [
        "# Dataframe Creation and Manipulation Using Pandas\n",
        "Pandas is an excellent library of python for data anlysis. Pandas uses NumPy internally but sometimes we will need to access its functions directly so we can import that also.\n",
        "\n",
        "<a href=https://pandas.pydata.org/docs/reference/index.html#api> Pandas Documentation </a>\n",
        "\n",
        "<a href=https://numpy.org/doc/stable/reference/index.html#reference> NumPy Documentation </a>"
      ],
      "metadata": {
        "id": "MN3qdZQ9hPsh"
      }
    },
    {
      "cell_type": "code",
      "execution_count": null,
      "metadata": {
        "id": "-gfPiLH3xvGo"
      },
      "outputs": [],
      "source": [
        "import numpy as np\n",
        "import pandas as pd"
      ]
    },
    {
      "cell_type": "markdown",
      "source": [
        "## Reading Data into a DataFrame Object in Pandas\n",
        "\n",
        "Pandas allows us to read in (and write out) data from many file types both locally and on a network.\n",
        "- CSV\n",
        "- SQL\n",
        "- JSON\n",
        "- HTML\n",
        "- XML\n",
        "- Excel\n",
        "- Etc."
      ],
      "metadata": {
        "id": "f98dXjp3hO73"
      }
    },
    {
      "cell_type": "code",
      "source": [
        "# Let's read in a CSV file from GetHub.\n",
        "url = 'https://raw.githubusercontent.com/ine-rmotr-curriculum/FreeCodeCamp-Pandas-Real-Life-Example/master/data/sales_data.csv'\n",
        "sales = pd.read_csv(url)\n",
        "sales.head(3)"
      ],
      "metadata": {
        "id": "dQnNL2e06BmP"
      },
      "execution_count": null,
      "outputs": []
    },
    {
      "cell_type": "markdown",
      "source": [
        "## Types of Data\n",
        "\n",
        "### Statistical Data Types\n",
        "* Categorical vs Numerical\n",
        "    * Discrete vs Continuous\n",
        "* Levels of Measurement\n",
        "    * Nominal\n",
        "    * Ordinal\n",
        "    * Interval\n",
        "    * Ratio\n",
        "\n",
        "### Python Data Types\n",
        "* Strings\n",
        "* Sets\n",
        "* Dictionaries\n",
        "* Booleans\n",
        "* None\n",
        "* Sequences\n",
        "    * Tuples\n",
        "    * Lists\n",
        "    * Ranges\n",
        "* Numbers\n",
        "    * Integers\n",
        "    * Floats\n",
        "    * Complex"
      ],
      "metadata": {
        "id": "y4hmZ8ynaXbr"
      }
    },
    {
      "cell_type": "code",
      "source": [
        "# We can use the info method to see a summary of how Pandas is storing our data.\n",
        "sales.info()"
      ],
      "metadata": {
        "id": "SoZKeAoJoEwb"
      },
      "execution_count": null,
      "outputs": []
    },
    {
      "cell_type": "markdown",
      "source": [
        "## Cleaning Up Our DataFrame\n",
        "If we wanted to otimize this data for processing speed we should minimize the use of objects.  \n",
        "(Those are not processed any faster by NumPy than they are in basic Python.)\n",
        "- Pandas has a datetime dtype <font color=\"red\"> and we could use the astype method to parse the Date column. </font>\n",
        "- The day, month, and year columns are redudant, so we could delete them using the drop method.   \n",
        "    (We can use the datetime data type to pull those values if we want them.)\n",
        "- <font color=\"red\"> We can use the category dtype to make the storage and processing of some string columns more efficient.  \n",
        "    (We can even create <a href=https://pandas.pydata.org/docs/reference/api/pandas.CategoricalDtype.html> custom category dtypes </a> that give our categories order.) </font>  \n",
        "- <font color=\"red\"> We can reduce the size of our integer variables to save space and processing time. </font>\n"
      ],
      "metadata": {
        "id": "uqFKX6BPqJtp"
      }
    },
    {
      "cell_type": "code",
      "source": [
        "# Use astype method to \n",
        "sales = sales.astype({'Date':'datetime64'})\n",
        "# Use the drop method to remove columns from a dataframe\n",
        "sales.drop(labels=['Day', 'Month', 'Year'], axis=1, inplace=True)\n",
        "# Pass the object columns into astype to reformat them as category data.\n",
        "sales = sales.astype({'Age_Group':'category', \n",
        "                      'Customer_Gender':'category', \n",
        "                      'Country':'category', \n",
        "                      'State':'category', \n",
        "                      'Product_Category':'category', \n",
        "                      'Sub_Category':'category', \n",
        "                      'Product':'category'})\n",
        "# Pass the integer columns into astype to reduce size where possible.\n",
        "sales = sales.astype({'Customer_Age':'int8', \n",
        "                      'Order_Quantity':'int8', \n",
        "                      'Unit_Cost':'int16', \n",
        "                      'Unit_Price':'int16', \n",
        "                      'Profit':'int16', \n",
        "                      'Cost':'int16', \n",
        "                      'Revenue':'int16'})\n",
        "sales.info()"
      ],
      "metadata": {
        "id": "IwzeRFKbpIG9"
      },
      "execution_count": null,
      "outputs": []
    },
    {
      "cell_type": "markdown",
      "source": [
        "Here is a whole list of methods you can use to get info from the datetime data type in Pandas.  \n",
        "<a href=https://pandas.pydata.org/docs/reference/api/pandas.Timestamp.html> Timestamp Methods </a>"
      ],
      "metadata": {
        "id": "JT0ab2qCzqXD"
      }
    },
    {
      "cell_type": "code",
      "source": [
        "# Lets get back the month name for each row using the apply and the month_name methods.\n",
        "sales['Date'].apply(pd.Timestamp.month_name)"
      ],
      "metadata": {
        "id": "_r8Swsa0xDnk"
      },
      "execution_count": null,
      "outputs": []
    },
    {
      "cell_type": "markdown",
      "source": [
        "### You Try It: Timestamp Methods\n",
        "In the code blocks below:  \n",
        "- Determine the name of the day for each of the entries in our data set.\n",
        "- Determine the numerical day of the year for each of the entries in our data set.  \n",
        "<font color=\"green\"> Hint: Remember that the input for the apply method must be a function. </font>\n",
        "- Determine if that date fell on a leap year for each of the entries in our data set.  \n",
        "<font color=\"green\"> Hint: Remember that the input for the apply method must be a function. </font>"
      ],
      "metadata": {
        "id": "sDhshVOCFTi4"
      }
    },
    {
      "cell_type": "code",
      "source": [
        "sales['Date'].apply(pd.Timestamp.day_name)"
      ],
      "metadata": {
        "id": "tqygQdkvrtHB"
      },
      "execution_count": null,
      "outputs": []
    },
    {
      "cell_type": "code",
      "source": [
        "sales['Date'].apply(lambda x: x.day_of_year)"
      ],
      "metadata": {
        "id": "HVVKush9FUOG"
      },
      "execution_count": null,
      "outputs": []
    },
    {
      "cell_type": "code",
      "source": [
        "sales['Date'].apply(lambda x: x.is_leap_year)"
      ],
      "metadata": {
        "id": "f9M8-jYdGMNn"
      },
      "execution_count": null,
      "outputs": []
    },
    {
      "cell_type": "markdown",
      "source": [
        "## Useful DataFrame Values and Methods\n",
        "- head/tail\n",
        "- info\n",
        "- index\n",
        "- columns\n",
        "- dtypes\n",
        "- <font color='red'> astype </font>\n",
        "- values\n",
        "- items\n",
        "- shape\n",
        "- apply\n",
        "- drop/pop\n",
        "- dropna/fillna\n",
        "- copy"
      ],
      "metadata": {
        "id": "Xwg9V5n-57y4"
      }
    },
    {
      "cell_type": "markdown",
      "source": [
        "## Accessing Subsets of a DataFrame\n",
        "We can use the standard Python indexing to call individual or groups of columns by name.  \n",
        "An individual colum will return a different Pandas object called a Series."
      ],
      "metadata": {
        "id": "ipNsT6IV3zrw"
      }
    },
    {
      "cell_type": "code",
      "source": [
        "# Let's just look at the Customer_Age column\n",
        "sales['Customer_Age']"
      ],
      "metadata": {
        "id": "RbFAPhXcysJv"
      },
      "execution_count": null,
      "outputs": []
    },
    {
      "cell_type": "code",
      "source": [
        "# How about Customer_Age and Customer_Gender together\n",
        "sales[['Customer_Age', 'Customer_Gender']]"
      ],
      "metadata": {
        "id": "vGZaem-35OGD"
      },
      "execution_count": null,
      "outputs": []
    },
    {
      "cell_type": "markdown",
      "source": [
        "We can access individual or groups of rows by numerical index using iloc or by labels or boolean array using loc."
      ],
      "metadata": {
        "id": "O3ruVd3u8p60"
      }
    },
    {
      "cell_type": "code",
      "source": [
        "# Access just the first row\n",
        "sales.iloc[0]"
      ],
      "metadata": {
        "id": "bWSAuHjk8g40"
      },
      "execution_count": null,
      "outputs": []
    },
    {
      "cell_type": "code",
      "source": [
        "# Access the first 1000 rows\n",
        "sales.iloc[:1000]"
      ],
      "metadata": {
        "id": "EfOt85JD9EF8"
      },
      "execution_count": null,
      "outputs": []
    },
    {
      "cell_type": "markdown",
      "source": [
        "**Creating** a boolean array (mask) for data you want is quite easy in Pandas."
      ],
      "metadata": {
        "id": "OAoDMPDa_kR4"
      }
    },
    {
      "cell_type": "code",
      "source": [
        "# Let's say we want the ages of all sales in Germany.\n",
        "mask = sales['Country'] == 'Germany'\n",
        "mask"
      ],
      "metadata": {
        "id": "vj0nGjbK-h8O"
      },
      "execution_count": null,
      "outputs": []
    },
    {
      "cell_type": "code",
      "source": [
        "germany_rows = sales.loc[mask]\n",
        "germany_rows"
      ],
      "metadata": {
        "id": "_7YkYFV4_9i1"
      },
      "execution_count": null,
      "outputs": []
    },
    {
      "cell_type": "code",
      "source": [
        "germany_rows['Customer_Age']"
      ],
      "metadata": {
        "id": "FeOkDDkVAUgm"
      },
      "execution_count": null,
      "outputs": []
    },
    {
      "cell_type": "code",
      "source": [
        "# Let's try a harder one like the age groups of all the canadians who bought vests\n",
        "mask = (sales['Country'] == 'Canada') & (sales['Sub_Category'] == 'Vests')\n",
        "sales.loc[mask, 'Age_Group']"
      ],
      "metadata": {
        "id": "eDgaz-AAAZz6"
      },
      "execution_count": null,
      "outputs": []
    },
    {
      "cell_type": "markdown",
      "source": [
        "### You Try It: Subsets of the Data\n",
        "- Find the gender of customers who live in France\n",
        "- Find the age range of customers who spent more than $1000 and didn't buy vests.\n",
        "- Find the age of customers who don't live in Germany and ordered in 2015.\n",
        "\n"
      ],
      "metadata": {
        "id": "oIkLe1NPURPO"
      }
    },
    {
      "cell_type": "code",
      "source": [
        "mask = (sales['Country'] == 'France')\n",
        "sales.loc[mask,'Customer_Gender']"
      ],
      "metadata": {
        "id": "UXS4GeQzWBlf"
      },
      "execution_count": null,
      "outputs": []
    },
    {
      "cell_type": "code",
      "source": [
        "age_range = (sales['Sub_Category'] != 'Vests') & (sales['Revenue'] > 1000)\n",
        "sales.loc[age_range] "
      ],
      "metadata": {
        "id": "8GSqGRsGTLXe"
      },
      "execution_count": null,
      "outputs": []
    },
    {
      "cell_type": "code",
      "source": [
        "germ = (sales['Country'] != 'Germany') & (sales['Date'].apply(lambda x: x.year) == 2015)\n",
        "sales.loc[germ, 'Customer_Age']"
      ],
      "metadata": {
        "id": "DTMJeq6AkCBZ"
      },
      "execution_count": null,
      "outputs": []
    },
    {
      "cell_type": "code",
      "source": [],
      "metadata": {
        "id": "fnRgZ3JZWBZ4"
      },
      "execution_count": null,
      "outputs": []
    },
    {
      "cell_type": "markdown",
      "source": [
        "## Applying Functions to the Data\n",
        "- Apply Method \n",
        "- Vectorized Functions\n",
        "\n",
        "Let's define a function we want to apply to each row of our data.  \n",
        "We can encode the Customer_Gender variable as M=0 and F=1"
      ],
      "metadata": {
        "id": "9XeGsp66EDSV"
      }
    },
    {
      "cell_type": "code",
      "source": [
        "# First we make sure those are our only options in the dataframe\n",
        "sales['Customer_Gender'].value_counts()"
      ],
      "metadata": {
        "id": "B5I2VQaCJTdX"
      },
      "execution_count": null,
      "outputs": []
    },
    {
      "cell_type": "code",
      "source": [
        "# Let's use the apply method first\n",
        "def encode_gender(row):\n",
        "    if row['Customer_Gender'] == 'M':\n",
        "        return 0\n",
        "    else: return 1\n",
        "\n",
        "def decode_gender(row):\n",
        "    if row['Cutomer_Gender'] == 0:\n",
        "        return 'M'\n",
        "    else: return 'F'"
      ],
      "metadata": {
        "id": "9zkvwHLwKbeK"
      },
      "execution_count": null,
      "outputs": []
    },
    {
      "cell_type": "code",
      "source": [
        "# Use the apply method to itterate though the rows or columns of the dataframe and apply the function\n",
        "sales.apply(encode_gender, axis=1)"
      ],
      "metadata": {
        "id": "sjCiM5B3cXht"
      },
      "execution_count": null,
      "outputs": []
    },
    {
      "cell_type": "code",
      "source": [
        "# Lets see how long on average the apply version takes to run.\n",
        "%%timeit\n",
        "sales_encoded = sales.copy()\n",
        "sales_encoded['Customer_Gender'] = sales.apply(encode_gender, axis=1)"
      ],
      "metadata": {
        "id": "NXTDPMhXNRdo"
      },
      "execution_count": null,
      "outputs": []
    },
    {
      "cell_type": "code",
      "source": [
        "# How long does it take on average for the vectorized version of this?\n",
        "%%timeit\n",
        "sales_encoded = sales.copy()\n",
        "sales_encoded['Customer_Gender'] = 0 \n",
        "mask = sales['Customer_Gender'] == 'F'\n",
        "sales_encoded.loc[mask, 'Customer_Gender'] = 1"
      ],
      "metadata": {
        "id": "y1esknDENLCq"
      },
      "execution_count": null,
      "outputs": []
    },
    {
      "cell_type": "code",
      "source": [
        "# Let's make a new dataframe with our encoded column\n",
        "sales_encoded = sales.copy()\n",
        "sales_encoded['Customer_Gender'] = 0 \n",
        "mask = sales['Customer_Gender'] == 'F'\n",
        "sales_encoded.loc[mask, 'Customer_Gender'] = 1\n",
        "sales_encoded.info()"
      ],
      "metadata": {
        "id": "40aLZKnkPDUL"
      },
      "execution_count": null,
      "outputs": []
    },
    {
      "cell_type": "markdown",
      "source": [
        "### You Try It: Applying Functions\n",
        "Use the apply function or vectorized functions to do the following:\n",
        "- Calculate the profit per unit for each order.\n",
        "- Encode the Age_Group column into interger values.\n",
        "- Replace the Age_Group column with the encoded values in the encoded dataframe."
      ],
      "metadata": {
        "id": "yHsdNbh1WQ6Z"
      }
    },
    {
      "cell_type": "code",
      "source": [
        "def profit_per_unit(row):\n",
        "    return row['Profit']/ row['Order_Quatity']\n",
        "\n",
        "    sales.apply(profit_per_unit, axis =1)"
      ],
      "metadata": {
        "id": "BbGJ4d71dLFz"
      },
      "execution_count": null,
      "outputs": []
    },
    {
      "cell_type": "code",
      "source": [
        "%timeit sales['Profit']/sales['Order_Quantity']"
      ],
      "metadata": {
        "id": "SHV7HWUvdK56"
      },
      "execution_count": null,
      "outputs": []
    },
    {
      "cell_type": "code",
      "source": [],
      "metadata": {
        "id": "CEaQldL8dKtD"
      },
      "execution_count": null,
      "outputs": []
    },
    {
      "cell_type": "markdown",
      "source": [
        "## Createing New Columns\n",
        "It is very easy to create a new column at the end using the indexing by label.  \n",
        "You can also use the insert method to place the column elsewhere."
      ],
      "metadata": {
        "id": "uYPKdYFCD_GU"
      }
    },
    {
      "cell_type": "code",
      "source": [
        "# Lets make a new nonsensical column of age*profit.\n",
        "sales['Age-Profit'] = sales['Customer_Age'] * sales['Profit']"
      ],
      "metadata": {
        "id": "GTiQr2tJeax4"
      },
      "execution_count": null,
      "outputs": []
    },
    {
      "cell_type": "code",
      "source": [
        "sales.head()"
      ],
      "metadata": {
        "id": "u61tpFBMfGGL"
      },
      "execution_count": null,
      "outputs": []
    },
    {
      "cell_type": "code",
      "source": [
        "sales.drop(labels=['Age-Profit'], axis=1, inplace=True)\n",
        "sales.insert(1, 'Age_Profit', sales['Customer_Age'] * sales['Profit'])\n",
        "sales.head()"
      ],
      "metadata": {
        "id": "fPHe-TbrgaZJ"
      },
      "execution_count": null,
      "outputs": []
    },
    {
      "cell_type": "markdown",
      "source": [
        "### You Try It: New Columns and Rows\n",
        "- Drop the obsurd Age-Profit column that some clown added.\n",
        "- Add a new column for the profit per unit for each order."
      ],
      "metadata": {
        "id": "ZAd7GW93fVUe"
      }
    },
    {
      "cell_type": "code",
      "source": [],
      "metadata": {
        "id": "Nnj_MtuYWaN1"
      },
      "execution_count": null,
      "outputs": []
    },
    {
      "cell_type": "code",
      "source": [],
      "metadata": {
        "id": "uFALE1MCmsWW"
      },
      "execution_count": null,
      "outputs": []
    },
    {
      "cell_type": "code",
      "source": [],
      "metadata": {
        "id": "zsWcSfzufRl_"
      },
      "execution_count": null,
      "outputs": []
    },
    {
      "cell_type": "markdown",
      "source": [
        "## Where to Find Datasets\n",
        "Here are a few links to sites with many sources:  \n",
        "\n",
        "<a href=https://libguides.rowan.edu/data> Rowan Library Guide to Data Sources </a>  \n",
        "<a href=https://www.kaggle.com/> Kaggle </a>  \n",
        "<a href=https://datasetsearch.research.google.com/> Google Dataset Search </a>\n",
        "\n",
        "There are many specialized portals for specific types of data. For example,  \n",
        "<a href=https://cde.ucr.cjis.gov/LATEST/webapp/#/pages/home> FBI: Crime Data Explorer </a>  \n",
        "<a href=https://www.nyc.gov/site/tlc/about/tlc-trip-record-data.page> NYC: Taxi Trip Data </a>  \n",
        "<a href=https://apps.who.int/gho/data/node.home> WHO: Global Heath Observatory Data Repository </a>\n"
      ],
      "metadata": {
        "id": "KnCaahhZncac"
      }
    },
    {
      "cell_type": "markdown",
      "source": [
        "## Ways to Save DataFrames to File\n",
        "- CSV (good for sharing with non-pandas users)\n",
        "- Pickle (standard python serialization)\n",
        "- Parquet (good for long term storage)\n",
        "- Feather (good for short term storage)"
      ],
      "metadata": {
        "id": "l2cRj2DjYnaa"
      }
    },
    {
      "cell_type": "code",
      "source": [
        "%timeit sales.to_csv('/content/sales_csv')\n",
        "%timeit pd.read_csv('/content/sales_csv')\n",
        "!ls -lh 'sales_csv'\n",
        "pd.read_csv('/content/sales_csv').info()"
      ],
      "metadata": {
        "id": "NTGVteGs7Qbl"
      },
      "execution_count": null,
      "outputs": []
    },
    {
      "cell_type": "code",
      "source": [
        "%timeit sales.to_pickle('/content/sales_pickle')\n",
        "%timeit pd.read_pickle('/content/sales_pickle')\n",
        "!ls -lh 'sales_pickle'\n",
        "pd.read_pickle('/content/sales_pickle').info()"
      ],
      "metadata": {
        "id": "bexohjS57wL0"
      },
      "execution_count": null,
      "outputs": []
    },
    {
      "cell_type": "code",
      "source": [
        "%timeit sales.to_parquet('/content/sales_parquet')\n",
        "%timeit pd.read_parquet('/content/sales_parquet')\n",
        "!ls -lh 'sales_parquet'\n",
        "pd.read_parquet('/content/sales_parquet').info()"
      ],
      "metadata": {
        "id": "X0keT34DB4Nu"
      },
      "execution_count": null,
      "outputs": []
    },
    {
      "cell_type": "code",
      "source": [
        "%timeit sales.to_feather('/content/sales_feather')\n",
        "%timeit pd.read_feather('/content/sales_feather')\n",
        "!ls -lh 'sales_feather'\n",
        "pd.read_feather('/content/sales_feather').info()"
      ],
      "metadata": {
        "id": "1z8VIlq3Ckty"
      },
      "execution_count": null,
      "outputs": []
    }
  ]
}